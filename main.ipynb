{
 "cells": [
  {
   "attachments": {},
   "cell_type": "markdown",
   "metadata": {},
   "source": [
    "# Steps:\n",
    "\n",
    "1. get gene data\n",
    "    - from where?\n",
    "2. get images\n",
    "    - how?\n",
    "    - maybe google search flower name?\n",
    "3. make model\n",
    "4. train model\n",
    "5. Yay"
   ]
  },
  {
   "cell_type": "code",
   "execution_count": null,
   "metadata": {},
   "outputs": [],
   "source": [
    "# get gene data from: genbank, using biopython!\n",
    "# parse data, put into dataset: df'"
   ]
  },
  {
   "cell_type": "code",
   "execution_count": 30,
   "metadata": {},
   "outputs": [],
   "source": [
    "import requests\n",
    "import Bio\n",
    "import pandas as pd\n",
    "import os\n",
    "from dotenv import dotenv_values"
   ]
  },
  {
   "cell_type": "code",
   "execution_count": 33,
   "metadata": {},
   "outputs": [],
   "source": [
    "MY_API_KEY = dotenv_values('.env')['API_KEY']"
   ]
  },
  {
   "cell_type": "code",
   "execution_count": null,
   "metadata": {},
   "outputs": [],
   "source": [
    "Bio.Entrez.api_key = MY_API_KEY\n",
    "Bio.Entrez.email = 'oliveradams@iceeducate.org'"
   ]
  },
  {
   "cell_type": "code",
   "execution_count": null,
   "metadata": {},
   "outputs": [],
   "source": [
    "address = 'https://eutils.ncbi.nlm.nih.gov'\n",
    "# eventually going to have to remove parts of the sequence that dont contribute to the looks... "
   ]
  },
  {
   "cell_type": "code",
   "execution_count": null,
   "metadata": {},
   "outputs": [],
   "source": [
    "# max of 100 requests\n",
    "num_reqs = 0\n",
    "for req in reqs:\n",
    "    if num_reqs >= 100:\n",
    "        print('You reached the max requests today ;(')\n",
    "        break"
   ]
  },
  {
   "cell_type": "code",
   "execution_count": 52,
   "metadata": {},
   "outputs": [],
   "source": [
    "handle = Bio.Entrez.einfo()\n",
    "record = Bio.Entrez.read(handle)\n",
    "db_list = record['DbList']"
   ]
  },
  {
   "cell_type": "code",
   "execution_count": 48,
   "metadata": {},
   "outputs": [
    {
     "name": "stdout",
     "output_type": "stream",
     "text": [
      "{'DbInfo': {'DbName': 'medgen', 'MenuName': 'MedGen', 'Description': 'Medgen Database', 'DbBuild': 'Build230405-0747.1', 'Count': '213595', 'LastUpdate': '2023/04/05 08:39', 'FieldList': [{'Name': 'ALL', 'FullName': 'All Fields', 'Description': 'All terms from all searchable fields', 'TermCount': '1690978', 'IsDate': 'N', 'IsNumerical': 'N', 'SingleToken': 'N', 'Hierarchy': 'N', 'IsHidden': 'N'}, {'Name': 'UID', 'FullName': 'UID', 'Description': 'Unique number assigned to each record', 'TermCount': '0', 'IsDate': 'N', 'IsNumerical': 'Y', 'SingleToken': 'Y', 'Hierarchy': 'N', 'IsHidden': 'Y'}, {'Name': 'FILT', 'FullName': 'Filter', 'Description': 'Limits the records', 'TermCount': '27', 'IsDate': 'N', 'IsNumerical': 'N', 'SingleToken': 'Y', 'Hierarchy': 'N', 'IsHidden': 'N'}, {'Name': 'ACCN', 'FullName': 'Accession', 'Description': 'concept identifier for the record', 'TermCount': '213595', 'IsDate': 'N', 'IsNumerical': 'N', 'SingleToken': 'Y', 'Hierarchy': 'N', 'IsHidden': 'N'}, {'Name': 'TITL', 'FullName': 'Title', 'Description': 'Full name of the concept from the top-ranked vocabulary', 'TermCount': '255089', 'IsDate': 'N', 'IsNumerical': 'N', 'SingleToken': 'N', 'Hierarchy': 'N', 'IsHidden': 'N'}, {'Name': 'PROP', 'FullName': 'Properties', 'Description': 'Classification by source qualifiers and molecule type', 'TermCount': '64', 'IsDate': 'N', 'IsNumerical': 'N', 'SingleToken': 'Y', 'Hierarchy': 'N', 'IsHidden': 'N'}, {'Name': 'MDAT', 'FullName': 'Modification Date', 'Description': 'Date of last update', 'TermCount': '0', 'IsDate': 'Y', 'IsNumerical': 'N', 'SingleToken': 'Y', 'Hierarchy': 'N', 'IsHidden': 'N'}, {'Name': 'WORD', 'FullName': 'Text Word', 'Description': 'Free text associated with record', 'TermCount': '898160', 'IsDate': 'N', 'IsNumerical': 'N', 'SingleToken': 'N', 'Hierarchy': 'N', 'IsHidden': 'N'}, {'Name': 'DEFN', 'FullName': 'Definition', 'Description': 'Text from the definition of the concept', 'TermCount': '244683', 'IsDate': 'N', 'IsNumerical': 'N', 'SingleToken': 'N', 'Hierarchy': 'N', 'IsHidden': 'N'}, {'Name': 'VOCB', 'FullName': 'Vocabulary', 'Description': 'Classification by source qualifiers and molecule type', 'TermCount': '8', 'IsDate': 'N', 'IsNumerical': 'N', 'SingleToken': 'Y', 'Hierarchy': 'N', 'IsHidden': 'N'}, {'Name': 'XTIT', 'FullName': 'ExactTitle', 'Description': 'Exact Title', 'TermCount': '213620', 'IsDate': 'N', 'IsNumerical': 'N', 'SingleToken': 'Y', 'Hierarchy': 'N', 'IsHidden': 'N'}, {'Name': 'CODE', 'FullName': 'Source ID', 'Description': 'Any identifier used by any vocabulary', 'TermCount': '554144', 'IsDate': 'N', 'IsNumerical': 'N', 'SingleToken': 'Y', 'Hierarchy': 'N', 'IsHidden': 'N'}, {'Name': 'REFR', 'FullName': 'Reference', 'Description': 'Authors and titles of citations', 'TermCount': '0', 'IsDate': 'N', 'IsNumerical': 'N', 'SingleToken': 'Y', 'Hierarchy': 'N', 'IsHidden': 'Y'}, {'Name': 'CHR', 'FullName': 'Chromosome', 'Description': \"Chromosome number; also 'mitochondrial', 'unknown' properties\", 'TermCount': '24', 'IsDate': 'N', 'IsNumerical': 'N', 'SingleToken': 'Y', 'Hierarchy': 'N', 'IsHidden': 'N'}, {'Name': 'CLIN', 'FullName': 'Clinical Features', 'Description': 'Clinical features of disorder integrated from OMIM and Human Phenotype Ontology (HPO)', 'TermCount': '16903', 'IsDate': 'N', 'IsNumerical': 'N', 'SingleToken': 'Y', 'Hierarchy': 'N', 'IsHidden': 'N'}, {'Name': 'GENE', 'FullName': 'Gene Name', 'Description': 'Name of gene associated with record', 'TermCount': '10127', 'IsDate': 'N', 'IsNumerical': 'N', 'SingleToken': 'Y', 'Hierarchy': 'N', 'IsHidden': 'N'}, {'Name': 'CPOS', 'FullName': 'Base Position', 'Description': 'Chromosome base position', 'TermCount': '0', 'IsDate': 'N', 'IsNumerical': 'Y', 'SingleToken': 'Y', 'Hierarchy': 'N', 'IsHidden': 'N'}, {'Name': 'OID', 'FullName': 'MIM ID', 'Description': 'Unique number assigned to OMIM record', 'TermCount': '11188', 'IsDate': 'N', 'IsNumerical': 'Y', 'SingleToken': 'Y', 'Hierarchy': 'N', 'IsHidden': 'N'}, {'Name': 'GFN', 'FullName': 'Gene Full Name', 'Description': 'Gene full name', 'TermCount': '9501', 'IsDate': 'N', 'IsNumerical': 'N', 'SingleToken': 'Y', 'Hierarchy': 'N', 'IsHidden': 'N'}, {'Name': 'KWD', 'FullName': 'Keyword', 'Description': 'Keyword relevant to the concept', 'TermCount': '339', 'IsDate': 'N', 'IsNumerical': 'N', 'SingleToken': 'N', 'Hierarchy': 'N', 'IsHidden': 'N'}, {'Name': 'MINH', 'FullName': 'Mode Of Inheritance', 'Description': 'Mode of inheritance', 'TermCount': '37', 'IsDate': 'N', 'IsNumerical': 'N', 'SingleToken': 'Y', 'Hierarchy': 'N', 'IsHidden': 'N'}, {'Name': 'SNM', 'FullName': 'SNOMED CT CUI', 'Description': 'SNOMED Concept ID', 'TermCount': '114111', 'IsDate': 'N', 'IsNumerical': 'Y', 'SingleToken': 'Y', 'Hierarchy': 'N', 'IsHidden': 'N'}, {'Name': 'GTIT', 'FullName': 'Guideline title', 'Description': 'Guideline title', 'TermCount': '4275', 'IsDate': 'N', 'IsNumerical': 'N', 'SingleToken': 'Y', 'Hierarchy': 'N', 'IsHidden': 'N'}, {'Name': 'ACR', 'FullName': 'Acronym', 'Description': 'Acronym', 'TermCount': '9744', 'IsDate': 'N', 'IsNumerical': 'N', 'SingleToken': 'Y', 'Hierarchy': 'N', 'IsHidden': 'N'}], 'LinkList': [{'Name': 'medgen_biosystems_gene_diseases', 'Menu': 'Pathways + GO', 'Description': 'Pathways, annotations and biological systems (BioSystems) that cite genes for the current record.', 'DbTo': 'biosystems'}, {'Name': 'medgen_books', 'Menu': 'NCBI Bookshelf', 'Description': 'Related information in NCBI Bookshelf', 'DbTo': 'books'}, {'Name': 'medgen_clinvar', 'Menu': 'ClinVar', 'Description': 'Related medical variations', 'DbTo': 'clinvar'}, {'Name': 'medgen_gap', 'Menu': 'dbGaP', 'Description': 'dbGaP Links', 'DbTo': 'gap'}, {'Name': 'medgen_gene_diseases', 'Menu': 'Gene', 'Description': 'Related information in NCBI Gene', 'DbTo': 'gene'}, {'Name': 'medgen_gtr', 'Menu': 'GTR', 'Description': 'Related information in GTR', 'DbTo': 'gtr'}, {'Name': 'medgen_gtr_tests_clinical', 'Menu': 'GTR(Clinical)', 'Description': 'Clinical tests in GTR', 'DbTo': 'gtr'}, {'Name': 'medgen_gtr_tests_research', 'Menu': 'GTR(Research)', 'Description': 'Research tests in GTR', 'DbTo': 'gtr'}, {'Name': 'medgen_mesh', 'Menu': 'MeSH', 'Description': 'Related Medical Subject Headings', 'DbTo': 'mesh'}, {'Name': 'medgen_omim', 'Menu': 'OMIM', 'Description': 'Related records in OMIM', 'DbTo': 'omim'}, {'Name': 'medgen_omim_gene', 'Menu': 'OMIM(Genes)', 'Description': 'OMIM records containing genes associated with phenotypes registered in MedGen', 'DbTo': 'omim'}, {'Name': 'medgen_pmc', 'Menu': 'PMC Articles', 'Description': 'Related information in PubMed Central Links', 'DbTo': 'pmc'}, {'Name': 'medgen_pubmed', 'Menu': 'PubMed', 'Description': 'Related literature resources in PubMed', 'DbTo': 'pubmed'}, {'Name': 'medgen_pubmed_bookshelf_cited', 'Menu': 'PubMed (Bookshelf cited)', 'Description': 'Links to PubMed based on citations in GeneReviews and Medical Genetics Summaries', 'DbTo': 'pubmed'}, {'Name': 'medgen_pubmed_genereviews', 'Menu': 'PubMed (GeneReviews)', 'Description': 'GeneReviews in PubMed', 'DbTo': 'pubmed'}, {'Name': 'medgen_pubmed_omim', 'Menu': 'PubMed (OMIM)', 'Description': 'Related literature resources in PubMed', 'DbTo': 'pubmed'}, {'Name': 'medgen_sparcle_diseases', 'Menu': 'Functional Class', 'Description': 'Functional class of the sequence domain architecture', 'DbTo': 'sparcle'}]}}\n"
     ]
    }
   ],
   "source": [
    "handle = Bio.Entrez.einfo(db='medgen')\n",
    "r = Bio.Entrez.read(handle)\n",
    "print(r)"
   ]
  },
  {
   "cell_type": "code",
   "execution_count": 51,
   "metadata": {},
   "outputs": [
    {
     "name": "stdout",
     "output_type": "stream",
     "text": [
      "pubmed\n"
     ]
    },
    {
     "ename": "KeyError",
     "evalue": "'DdInfo'",
     "output_type": "error",
     "traceback": [
      "\u001b[1;31m---------------------------------------------------------------------------\u001b[0m",
      "\u001b[1;31mKeyError\u001b[0m                                  Traceback (most recent call last)",
      "Cell \u001b[1;32mIn[51], line 5\u001b[0m\n\u001b[0;32m      3\u001b[0m r \u001b[39m=\u001b[39m Bio\u001b[39m.\u001b[39mEntrez\u001b[39m.\u001b[39mread(handle)\n\u001b[0;32m      4\u001b[0m \u001b[39mprint\u001b[39m(r[\u001b[39m'\u001b[39m\u001b[39mDbInfo\u001b[39m\u001b[39m'\u001b[39m][\u001b[39m'\u001b[39m\u001b[39mDbName\u001b[39m\u001b[39m'\u001b[39m])\n\u001b[1;32m----> 5\u001b[0m \u001b[39mprint\u001b[39m(r[\u001b[39m'\u001b[39;49m\u001b[39mDdInfo\u001b[39;49m\u001b[39m'\u001b[39;49m][\u001b[39m'\u001b[39m\u001b[39mDescription\u001b[39m\u001b[39m'\u001b[39m])\n",
      "\u001b[1;31mKeyError\u001b[0m: 'DdInfo'"
     ]
    }
   ],
   "source": [
    "handle = Bio.Entrez.esearch()"
   ]
  }
 ],
 "metadata": {
  "kernelspec": {
   "display_name": "venv",
   "language": "python",
   "name": "python3"
  },
  "language_info": {
   "codemirror_mode": {
    "name": "ipython",
    "version": 3
   },
   "file_extension": ".py",
   "mimetype": "text/x-python",
   "name": "python",
   "nbconvert_exporter": "python",
   "pygments_lexer": "ipython3",
   "version": "3.9.13"
  },
  "orig_nbformat": 4
 },
 "nbformat": 4,
 "nbformat_minor": 2
}
